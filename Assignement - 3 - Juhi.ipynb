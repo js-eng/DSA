{
 "cells": [
  {
   "cell_type": "code",
   "execution_count": 7,
   "metadata": {},
   "outputs": [
    {
     "name": "stdout",
     "output_type": "stream",
     "text": [
      "Thor 15-07-2012 ->Iron Man 12-06-2011 ->None\n"
     ]
    }
   ],
   "source": [
    "class MovieNode:\n",
    "\n",
    "    def __init__(self, movieName, relDate):\n",
    "        self.movieName = movieName\n",
    "        self.relDate = relDate\n",
    "        self.next = None\n",
    "        return\n",
    "class NetflixMovieList:\n",
    "    def __init__(self):\n",
    "        self.head = None\n",
    "    def addMovie(self, movieName, relDate):\n",
    "        new = MovieNode(movieName, relDate)\n",
    "        if self.head == None:\n",
    "            self.head = new\n",
    "            return\n",
    "        new.next = self.head\n",
    "        self.head = new\n",
    "        return\n",
    "    def displayMovies(self):\n",
    "        if self.head == None:\n",
    "            print(\"No movies to show right now\")\n",
    "            return\n",
    "        temp = self.head\n",
    "        while(temp != None):\n",
    "            print(temp.movieName, temp.relDate, '->', end = \"\")\n",
    "            temp = temp.next\n",
    "        print('None')\n",
    "        return\n",
    "    def DeleteMovie(self):\n",
    "        if self.head == None:\n",
    "            print(\"There are no movies currently\")\n",
    "            return\n",
    "        temp = self.head\n",
    "        while(temp != None):\n",
    "            temp1 = temp.next\n",
    "            if(temp1.relDate < temp.relDate):\n",
    "                temp.next = temp1.next\n",
    "            else:\n",
    "                temp= temp.next\n",
    "        return\n",
    "            \n",
    "            \n",
    "\n",
    "movie_list = NetflixMovieList()\n",
    "movie_list.addMovie('Iron Man', '12-06-2011')\n",
    "movie_list.addMovie('Thor', '15-07-2012')\n",
    "movie_list.displayMovies()\n"
   ]
  },
  {
   "cell_type": "code",
   "execution_count": null,
   "metadata": {},
   "outputs": [],
   "source": []
  }
 ],
 "metadata": {
  "kernelspec": {
   "display_name": "Python 3",
   "language": "python",
   "name": "python3"
  },
  "language_info": {
   "codemirror_mode": {
    "name": "ipython",
    "version": 3
   },
   "file_extension": ".py",
   "mimetype": "text/x-python",
   "name": "python",
   "nbconvert_exporter": "python",
   "pygments_lexer": "ipython3",
   "version": "3.7.4"
  }
 },
 "nbformat": 4,
 "nbformat_minor": 2
}
